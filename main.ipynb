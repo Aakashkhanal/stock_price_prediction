{
 "cells": [
  {
   "cell_type": "code",
   "execution_count": 60,
   "id": "ff771753",
   "metadata": {},
   "outputs": [],
   "source": [
    "import pandas as pd\n",
    "import numpy as np\n",
    "import matplotlib.pyplot as plt\n",
    "import yfinance as yf"
   ]
  },
  {
   "cell_type": "code",
   "execution_count": 61,
   "id": "cd7dc750",
   "metadata": {},
   "outputs": [
    {
     "name": "stderr",
     "output_type": "stream",
     "text": [
      "[*********************100%***********************]  1 of 1 completed\n"
     ]
    }
   ],
   "source": [
    "start = '2014-01-01'\n",
    "end = '2024-12-21'\n",
    "stock = 'GOOG'\n",
    "\n",
    "data = yf.download(stock,start,end)"
   ]
  },
  {
   "cell_type": "code",
   "execution_count": 62,
   "id": "80ec3b28",
   "metadata": {},
   "outputs": [
    {
     "data": {
      "text/html": [
       "<div>\n",
       "<style scoped>\n",
       "    .dataframe tbody tr th:only-of-type {\n",
       "        vertical-align: middle;\n",
       "    }\n",
       "\n",
       "    .dataframe tbody tr th {\n",
       "        vertical-align: top;\n",
       "    }\n",
       "\n",
       "    .dataframe thead th {\n",
       "        text-align: right;\n",
       "    }\n",
       "</style>\n",
       "<table border=\"1\" class=\"dataframe\">\n",
       "  <thead>\n",
       "    <tr style=\"text-align: right;\">\n",
       "      <th></th>\n",
       "      <th>symbol</th>\n",
       "      <th>date</th>\n",
       "      <th>open</th>\n",
       "      <th>high</th>\n",
       "      <th>low</th>\n",
       "      <th>close</th>\n",
       "      <th>volume</th>\n",
       "    </tr>\n",
       "  </thead>\n",
       "  <tbody>\n",
       "    <tr>\n",
       "      <th>0</th>\n",
       "      <td>AAL</td>\n",
       "      <td>2014-01-02</td>\n",
       "      <td>25.0700</td>\n",
       "      <td>25.8200</td>\n",
       "      <td>25.0600</td>\n",
       "      <td>25.3600</td>\n",
       "      <td>8998943</td>\n",
       "    </tr>\n",
       "    <tr>\n",
       "      <th>1</th>\n",
       "      <td>AAPL</td>\n",
       "      <td>2014-01-02</td>\n",
       "      <td>79.3828</td>\n",
       "      <td>79.5756</td>\n",
       "      <td>78.8601</td>\n",
       "      <td>79.0185</td>\n",
       "      <td>58791957</td>\n",
       "    </tr>\n",
       "    <tr>\n",
       "      <th>2</th>\n",
       "      <td>AAP</td>\n",
       "      <td>2014-01-02</td>\n",
       "      <td>110.3600</td>\n",
       "      <td>111.8800</td>\n",
       "      <td>109.2900</td>\n",
       "      <td>109.7400</td>\n",
       "      <td>542711</td>\n",
       "    </tr>\n",
       "    <tr>\n",
       "      <th>3</th>\n",
       "      <td>ABBV</td>\n",
       "      <td>2014-01-02</td>\n",
       "      <td>52.1200</td>\n",
       "      <td>52.3300</td>\n",
       "      <td>51.5200</td>\n",
       "      <td>51.9800</td>\n",
       "      <td>4569061</td>\n",
       "    </tr>\n",
       "    <tr>\n",
       "      <th>4</th>\n",
       "      <td>ABC</td>\n",
       "      <td>2014-01-02</td>\n",
       "      <td>70.1100</td>\n",
       "      <td>70.2300</td>\n",
       "      <td>69.4800</td>\n",
       "      <td>69.8900</td>\n",
       "      <td>1148391</td>\n",
       "    </tr>\n",
       "  </tbody>\n",
       "</table>\n",
       "</div>"
      ],
      "text/plain": [
       "  symbol        date      open      high       low     close    volume\n",
       "0    AAL  2014-01-02   25.0700   25.8200   25.0600   25.3600   8998943\n",
       "1   AAPL  2014-01-02   79.3828   79.5756   78.8601   79.0185  58791957\n",
       "2    AAP  2014-01-02  110.3600  111.8800  109.2900  109.7400    542711\n",
       "3   ABBV  2014-01-02   52.1200   52.3300   51.5200   51.9800   4569061\n",
       "4    ABC  2014-01-02   70.1100   70.2300   69.4800   69.8900   1148391"
      ]
     },
     "execution_count": 62,
     "metadata": {},
     "output_type": "execute_result"
    }
   ],
   "source": [
    "df = pd.read_csv(\"Stock Prices Data Set.csv\")\n",
    "df.head()"
   ]
  },
  {
   "cell_type": "code",
   "execution_count": 63,
   "id": "4980282d",
   "metadata": {},
   "outputs": [],
   "source": [
    "df = df.drop([ 'symbol', 'date'], axis =1)"
   ]
  },
  {
   "cell_type": "code",
   "execution_count": 64,
   "id": "74f5c982",
   "metadata": {},
   "outputs": [
    {
     "data": {
      "text/plain": [
       "(497472, 5)"
      ]
     },
     "execution_count": 64,
     "metadata": {},
     "output_type": "execute_result"
    }
   ],
   "source": [
    "df.shape"
   ]
  },
  {
   "cell_type": "code",
   "execution_count": 65,
   "id": "0b836b1d",
   "metadata": {},
   "outputs": [
    {
     "name": "stdout",
     "output_type": "stream",
     "text": [
      "<class 'pandas.core.frame.DataFrame'>\n",
      "RangeIndex: 497472 entries, 0 to 497471\n",
      "Data columns (total 5 columns):\n",
      " #   Column  Non-Null Count   Dtype  \n",
      "---  ------  --------------   -----  \n",
      " 0   open    497461 non-null  float64\n",
      " 1   high    497464 non-null  float64\n",
      " 2   low     497464 non-null  float64\n",
      " 3   close   497472 non-null  float64\n",
      " 4   volume  497472 non-null  int64  \n",
      "dtypes: float64(4), int64(1)\n",
      "memory usage: 19.0 MB\n"
     ]
    }
   ],
   "source": [
    "df.info()\n"
   ]
  },
  {
   "cell_type": "code",
   "execution_count": 66,
   "id": "bee9360a",
   "metadata": {},
   "outputs": [
    {
     "data": {
      "text/plain": [
       "open      11\n",
       "high       8\n",
       "low        8\n",
       "close      0\n",
       "volume     0\n",
       "dtype: int64"
      ]
     },
     "execution_count": 66,
     "metadata": {},
     "output_type": "execute_result"
    }
   ],
   "source": [
    "df.isnull().sum()"
   ]
  },
  {
   "cell_type": "code",
   "execution_count": 67,
   "id": "a90de9b4",
   "metadata": {},
   "outputs": [],
   "source": [
    "df= df.dropna()"
   ]
  },
  {
   "cell_type": "code",
   "execution_count": 68,
   "id": "bdc3fb25",
   "metadata": {},
   "outputs": [
    {
     "data": {
      "text/plain": [
       "open      0\n",
       "high      0\n",
       "low       0\n",
       "close     0\n",
       "volume    0\n",
       "dtype: int64"
      ]
     },
     "execution_count": 68,
     "metadata": {},
     "output_type": "execute_result"
    }
   ],
   "source": [
    "df.isnull().sum()"
   ]
  },
  {
   "cell_type": "code",
   "execution_count": 69,
   "id": "054d1dd5",
   "metadata": {},
   "outputs": [
    {
     "data": {
      "text/html": [
       "<div>\n",
       "<style scoped>\n",
       "    .dataframe tbody tr th:only-of-type {\n",
       "        vertical-align: middle;\n",
       "    }\n",
       "\n",
       "    .dataframe tbody tr th {\n",
       "        vertical-align: top;\n",
       "    }\n",
       "\n",
       "    .dataframe thead th {\n",
       "        text-align: right;\n",
       "    }\n",
       "</style>\n",
       "<table border=\"1\" class=\"dataframe\">\n",
       "  <thead>\n",
       "    <tr style=\"text-align: right;\">\n",
       "      <th></th>\n",
       "      <th>open</th>\n",
       "      <th>high</th>\n",
       "      <th>low</th>\n",
       "      <th>close</th>\n",
       "      <th>volume</th>\n",
       "    </tr>\n",
       "  </thead>\n",
       "  <tbody>\n",
       "    <tr>\n",
       "      <th>count</th>\n",
       "      <td>497461.000000</td>\n",
       "      <td>497461.000000</td>\n",
       "      <td>497461.000000</td>\n",
       "      <td>497461.000000</td>\n",
       "      <td>4.974610e+05</td>\n",
       "    </tr>\n",
       "    <tr>\n",
       "      <th>mean</th>\n",
       "      <td>86.352275</td>\n",
       "      <td>87.132717</td>\n",
       "      <td>85.552616</td>\n",
       "      <td>86.368586</td>\n",
       "      <td>4.253695e+06</td>\n",
       "    </tr>\n",
       "    <tr>\n",
       "      <th>std</th>\n",
       "      <td>101.471228</td>\n",
       "      <td>102.312340</td>\n",
       "      <td>100.571231</td>\n",
       "      <td>101.471516</td>\n",
       "      <td>8.232210e+06</td>\n",
       "    </tr>\n",
       "    <tr>\n",
       "      <th>min</th>\n",
       "      <td>1.620000</td>\n",
       "      <td>1.690000</td>\n",
       "      <td>1.500000</td>\n",
       "      <td>1.590000</td>\n",
       "      <td>1.010000e+02</td>\n",
       "    </tr>\n",
       "    <tr>\n",
       "      <th>25%</th>\n",
       "      <td>41.690000</td>\n",
       "      <td>42.090000</td>\n",
       "      <td>41.280000</td>\n",
       "      <td>41.700000</td>\n",
       "      <td>1.080183e+06</td>\n",
       "    </tr>\n",
       "    <tr>\n",
       "      <th>50%</th>\n",
       "      <td>64.970000</td>\n",
       "      <td>65.560000</td>\n",
       "      <td>64.357400</td>\n",
       "      <td>64.980000</td>\n",
       "      <td>2.085013e+06</td>\n",
       "    </tr>\n",
       "    <tr>\n",
       "      <th>75%</th>\n",
       "      <td>98.410000</td>\n",
       "      <td>99.230000</td>\n",
       "      <td>97.580000</td>\n",
       "      <td>98.420000</td>\n",
       "      <td>4.271999e+06</td>\n",
       "    </tr>\n",
       "    <tr>\n",
       "      <th>max</th>\n",
       "      <td>2044.000000</td>\n",
       "      <td>2067.990000</td>\n",
       "      <td>2035.110000</td>\n",
       "      <td>2049.000000</td>\n",
       "      <td>6.182376e+08</td>\n",
       "    </tr>\n",
       "  </tbody>\n",
       "</table>\n",
       "</div>"
      ],
      "text/plain": [
       "                open           high            low          close  \\\n",
       "count  497461.000000  497461.000000  497461.000000  497461.000000   \n",
       "mean       86.352275      87.132717      85.552616      86.368586   \n",
       "std       101.471228     102.312340     100.571231     101.471516   \n",
       "min         1.620000       1.690000       1.500000       1.590000   \n",
       "25%        41.690000      42.090000      41.280000      41.700000   \n",
       "50%        64.970000      65.560000      64.357400      64.980000   \n",
       "75%        98.410000      99.230000      97.580000      98.420000   \n",
       "max      2044.000000    2067.990000    2035.110000    2049.000000   \n",
       "\n",
       "             volume  \n",
       "count  4.974610e+05  \n",
       "mean   4.253695e+06  \n",
       "std    8.232210e+06  \n",
       "min    1.010000e+02  \n",
       "25%    1.080183e+06  \n",
       "50%    2.085013e+06  \n",
       "75%    4.271999e+06  \n",
       "max    6.182376e+08  "
      ]
     },
     "execution_count": 69,
     "metadata": {},
     "output_type": "execute_result"
    }
   ],
   "source": [
    "df.describe()"
   ]
  },
  {
   "cell_type": "code",
   "execution_count": 70,
   "id": "a7e00e37",
   "metadata": {},
   "outputs": [
    {
     "data": {
      "text/plain": [
       "[<matplotlib.lines.Line2D at 0x30f1e2850>]"
      ]
     },
     "execution_count": 70,
     "metadata": {},
     "output_type": "execute_result"
    },
    {
     "data": {
      "image/png": "[encoded data removed]",
      "text/plain": [
       "<Figure size 640x480 with 1 Axes>"
      ]
     },
     "metadata": {},
     "output_type": "display_data"
    }
   ],
   "source": [
    "\n",
    "plt.plot(df.close)"
   ]
  },
  {
   "cell_type": "code",
   "execution_count": null,
   "id": "af094ec4",
   "metadata": {},
   "outputs": [],
   "source": []
  },
  {
   "cell_type": "code",
   "execution_count": null,
   "id": "beefb1ff",
   "metadata": {},
   "outputs": [],
   "source": []
  },
  {
   "cell_type": "code",
   "execution_count": null,
   "id": "7151e045",
   "metadata": {},
   "outputs": [],
   "source": []
  },
  {
   "cell_type": "code",
   "execution_count": null,
   "id": "b0f24676",
   "metadata": {},
   "outputs": [],
   "source": []
  },
  {
   "cell_type": "code",
   "execution_count": null,
   "id": "c08c99c0",
   "metadata": {},
   "outputs": [],
   "source": []
  },
  {
   "cell_type": "code",
   "execution_count": null,
   "id": "0f1c2458",
   "metadata": {},
   "outputs": [],
   "source": []
  }
 ],
 "metadata": {
  "kernelspec": {
   "display_name": "base",
   "language": "python",
   "name": "python3"
  },
  "language_info": {
   "codemirror_mode": {
    "name": "ipython",
    "version": 3
   },
   "file_extension": ".py",
   "mimetype": "text/x-python",
   "name": "python",
   "nbconvert_exporter": "python",
   "pygments_lexer": "ipython3",
   "version": "3.11.5"
  }
 },
 "nbformat": 4,
 "nbformat_minor": 5
}
